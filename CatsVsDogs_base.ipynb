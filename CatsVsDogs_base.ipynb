{
 "cells": [
  {
   "cell_type": "code",
   "execution_count": 1,
   "id": "3a34013d",
   "metadata": {},
   "outputs": [],
   "source": [
    "# Este dataset fue obtenido de: \n",
    "# https://www.kaggle.com/chetankv/dogs-cats-images"
   ]
  },
  {
   "cell_type": "code",
   "execution_count": 2,
   "id": "bc977d6a",
   "metadata": {},
   "outputs": [],
   "source": [
    "#Importamos las librerías y funciones a utilizar\n",
    "import matplotlib.pyplot as plt                      \n",
    "import tensorflow as tf      \n",
    "import numpy as np                                   \n",
    "import pathlib               \n",
    "import os                     \n",
    "import PIL                       \n",
    "                          \n",
    "from tensorflow import keras                           \n",
    "from tensorflow.keras import layers                    \n",
    "from tensorflow.keras.models import Sequential         \n",
    "from tensorflow.keras.callbacks import TensorBoard \n"
   ]
  },
  {
   "cell_type": "code",
   "execution_count": 3,
   "id": "1cd2754d",
   "metadata": {},
   "outputs": [],
   "source": [
    "#Líneas para trabajar con un tarjeta GPU (Nvidia) configurada (CUDA+cudnn) \n",
    "\n",
    "gpu_devices = tf.config.experimental.list_physical_devices('GPU')\n",
    "tf.config.experimental.set_memory_growth(gpu_devices[0], True)\n",
    "\n",
    "gpus = tf.test.gpu_device_name()\n",
    "print(\"GPUs: \" + gpus)"
   ]
  },
  {
   "cell_type": "code",
   "execution_count": 4,
   "id": "c2a4361c",
   "metadata": {},
   "outputs": [],
   "source": [
    "#Importamos los datos de Kaggle API\n",
    "#os.system(\"kaggle datasets download -d chetankv/dogs-cats-images -p $PWD\")"
   ]
  },
  {
   "cell_type": "code",
   "execution_count": 5,
   "id": "affd824b",
   "metadata": {},
   "outputs": [],
   "source": [
    "#Descomprimimos el archivo\n",
    "#os.system(\" unzip dogs-cats-images.zip\")"
   ]
  },
  {
   "cell_type": "code",
   "execution_count": 6,
   "id": "900cb315",
   "metadata": {},
   "outputs": [],
   "source": [
    "#Asignamos los directorios de entrenamiento y prueba\n",
    "data_dir_train = pathlib.Path(\"dataset/training_set\")\n",
    "data_dir_test = pathlib.Path(\"dataset/test_set\")"
   ]
  },
  {
   "cell_type": "code",
   "execution_count": 7,
   "id": "b2dfc6d9",
   "metadata": {},
   "outputs": [
    {
     "name": "stdout",
     "output_type": "stream",
     "text": [
      "El dataset contiene un total de 10000 imágenes.\n",
      "Número de imágenes para entrenamiento: 8000\n",
      "Número de imágenes para prueba: 2000\n",
      "Empleamos el  80.0 % de las imágenes para el entrenamiento\n",
      "y el  20.0 % para la prueba.\n"
     ]
    }
   ],
   "source": [
    "#Contamos las imágenes en cada directorio\n",
    "image_train_count = len(list(data_dir_train.glob('*/*.jpg')))\n",
    "image_test_count = len(list(data_dir_test.glob('*/*.jpg')))\n",
    "tot_image = image_train_count + image_test_count\n",
    "print(\"El dataset contiene un total de\",tot_image,\"imágenes.\")\n",
    "print(\"Número de imágenes para entrenamiento:\",image_train_count)\n",
    "print(\"Número de imágenes para prueba:\",image_test_count)\n",
    "print(\"Empleamos el \",(image_train_count*100)/tot_image,\"% de las imágenes para el entrenamiento\")\n",
    "print(\"y el \",(image_test_count*100)/tot_image,\"% para la prueba.\")"
   ]
  },
  {
   "cell_type": "code",
   "execution_count": 8,
   "id": "deed8219",
   "metadata": {},
   "outputs": [],
   "source": [
    "#Definimos los parámetros para cargar las imágenes\n",
    "batch_size = 32\n",
    "img_height = 180\n",
    "img_width = 180"
   ]
  },
  {
   "cell_type": "code",
   "execution_count": 9,
   "id": "2deb6498",
   "metadata": {},
   "outputs": [
    {
     "name": "stdout",
     "output_type": "stream",
     "text": [
      "Found 8000 files belonging to 2 classes.\n"
     ]
    }
   ],
   "source": [
    "#Asignamos los datos para entrenamiento y prueba \n",
    "train_ds = tf.keras.preprocessing.image_dataset_from_directory(\n",
    "  data_dir_train,\n",
    "  seed=123,\n",
    "  image_size=(img_height, img_width),\n",
    "  batch_size=batch_size)"
   ]
  },
  {
   "cell_type": "code",
   "execution_count": 10,
   "id": "10845784",
   "metadata": {},
   "outputs": [
    {
     "name": "stdout",
     "output_type": "stream",
     "text": [
      "Found 2000 files belonging to 2 classes.\n"
     ]
    }
   ],
   "source": [
    "val_ds = tf.keras.preprocessing.image_dataset_from_directory(\n",
    "  data_dir_test,\n",
    "  seed=123,\n",
    "  image_size=(img_height, img_width),\n",
    "  batch_size=batch_size)"
   ]
  },
  {
   "cell_type": "code",
   "execution_count": 11,
   "id": "969cfbee",
   "metadata": {},
   "outputs": [
    {
     "name": "stdout",
     "output_type": "stream",
     "text": [
      "['cats', 'dogs']\n"
     ]
    }
   ],
   "source": [
    "#Revisamos los nombres de los directorios\n",
    "class_names = train_ds.class_names\n",
    "print(class_names)"
   ]
  },
  {
   "cell_type": "code",
   "execution_count": 12,
   "id": "d7793507",
   "metadata": {},
   "outputs": [
    {
     "name": "stdout",
     "output_type": "stream",
     "text": [
      "(32, 180, 180, 3)\n",
      "(32,)\n"
     ]
    }
   ],
   "source": [
    "# Revisamos las características del batch\n",
    "\n",
    "for image_batch, labels_batch in train_ds:\n",
    "  print(image_batch.shape)\n",
    "  print(labels_batch.shape)\n",
    "  break"
   ]
  },
  {
   "cell_type": "code",
   "execution_count": 13,
   "id": "1309ee09",
   "metadata": {},
   "outputs": [],
   "source": [
    "#Usamos el método dataset.cache() para conservar las imágenes enn la memoria luego\n",
    "#de ser descargadas después de la primera epoch.\n",
    "#Empleamos el método dataset.prefetch() para superponer el procesamiento de los\n",
    "#datos y la ejecución del modelo durante el entrenamiento.\n",
    "AUTOTUNE = tf.data.AUTOTUNE\n",
    "\n",
    "train_ds = train_ds.cache().shuffle(1000).prefetch(buffer_size=AUTOTUNE)\n",
    "val_ds = val_ds.cache().prefetch(buffer_size=AUTOTUNE)"
   ]
  },
  {
   "cell_type": "code",
   "execution_count": 14,
   "id": "e7599be6",
   "metadata": {},
   "outputs": [],
   "source": [
    "#Estandarizamos los datos. Los valores del canal RGB tienen un rango de\n",
    "# [0,255], por lo cual dividimos entre el valor máximo\n",
    "normalization_layer = layers.experimental.preprocessing.Rescaling(1./255)"
   ]
  },
  {
   "cell_type": "code",
   "execution_count": 15,
   "id": "748e20ba",
   "metadata": {},
   "outputs": [
    {
     "name": "stdout",
     "output_type": "stream",
     "text": [
      "0.0 1.0\n"
     ]
    }
   ],
   "source": [
    "normalized_ds = train_ds.map(lambda x, y: (normalization_layer(x), y))\n",
    "image_batch, labels_batch = next(iter(normalized_ds))\n",
    "\n",
    "# El rango de los valores está ahora entre `[0,1]`. Tomamos la primera\n",
    "# imagen para comprobar esto.\n",
    "first_image = image_batch[0]\n",
    "print(np.min(first_image), np.max(first_image))"
   ]
  },
  {
   "cell_type": "code",
   "execution_count": 16,
   "id": "bf0779eb",
   "metadata": {},
   "outputs": [],
   "source": [
    "#Implementamos data augmentation en el modelo\n",
    "data_augmentation = keras.Sequential(\n",
    "  [\n",
    "    layers.experimental.preprocessing.RandomFlip(\"horizontal\", \n",
    "                                                 input_shape=(img_height, \n",
    "                                                              img_width,\n",
    "                                                              3)),\n",
    "    layers.experimental.preprocessing.RandomRotation(0.1),\n",
    "    layers.experimental.preprocessing.RandomZoom(0.1),\n",
    "  ]\n",
    ")"
   ]
  },
  {
   "cell_type": "code",
   "execution_count": 17,
   "id": "b3de3f36",
   "metadata": {},
   "outputs": [],
   "source": [
    "#Creamos nuestro modelo. Implementamos Dropout para reducir el overfitting en el modelo.\n",
    "model = Sequential([\n",
    "  data_augmentation,\n",
    "  layers.experimental.preprocessing.Rescaling(1./255),\n",
    "  layers.Conv2D(16, 3, padding='same', activation='relu'),\n",
    "  layers.MaxPooling2D(),\n",
    "  layers.Conv2D(32, 3, padding='same', activation='relu'),\n",
    "  layers.MaxPooling2D(),\n",
    "  layers.Conv2D(64, 3, padding='same', activation='relu'),\n",
    "  layers.MaxPooling2D(),\n",
    "  layers.Dropout(0.2),\n",
    "  layers.Flatten(),\n",
    "  layers.Dense(128, activation='relu'),\n",
    "  layers.Dense(2)\n",
    "])"
   ]
  },
  {
   "cell_type": "code",
   "execution_count": 18,
   "id": "e63c1e9e",
   "metadata": {},
   "outputs": [],
   "source": [
    "#Compilamos el modelo\n",
    "model.compile(optimizer='adam',\n",
    "              loss=tf.keras.losses.SparseCategoricalCrossentropy(from_logits=True),\n",
    "              metrics=['accuracy']\n",
    "              )"
   ]
  },
  {
   "cell_type": "code",
   "execution_count": 19,
   "id": "07b48e75",
   "metadata": {},
   "outputs": [
    {
     "name": "stdout",
     "output_type": "stream",
     "text": [
      "Model: \"sequential_1\"\n",
      "_________________________________________________________________\n",
      "Layer (type)                 Output Shape              Param #   \n",
      "=================================================================\n",
      "sequential (Sequential)      (None, 180, 180, 3)       0         \n",
      "_________________________________________________________________\n",
      "rescaling_1 (Rescaling)      (None, 180, 180, 3)       0         \n",
      "_________________________________________________________________\n",
      "conv2d (Conv2D)              (None, 180, 180, 16)      448       \n",
      "_________________________________________________________________\n",
      "max_pooling2d (MaxPooling2D) (None, 90, 90, 16)        0         \n",
      "_________________________________________________________________\n",
      "conv2d_1 (Conv2D)            (None, 90, 90, 32)        4640      \n",
      "_________________________________________________________________\n",
      "max_pooling2d_1 (MaxPooling2 (None, 45, 45, 32)        0         \n",
      "_________________________________________________________________\n",
      "conv2d_2 (Conv2D)            (None, 45, 45, 64)        18496     \n",
      "_________________________________________________________________\n",
      "max_pooling2d_2 (MaxPooling2 (None, 22, 22, 64)        0         \n",
      "_________________________________________________________________\n",
      "dropout (Dropout)            (None, 22, 22, 64)        0         \n",
      "_________________________________________________________________\n",
      "flatten (Flatten)            (None, 30976)             0         \n",
      "_________________________________________________________________\n",
      "dense (Dense)                (None, 128)               3965056   \n",
      "_________________________________________________________________\n",
      "dense_1 (Dense)              (None, 2)                 258       \n",
      "=================================================================\n",
      "Total params: 3,988,898\n",
      "Trainable params: 3,988,898\n",
      "Non-trainable params: 0\n",
      "_________________________________________________________________\n"
     ]
    }
   ],
   "source": [
    "#Imprimimos un resumen de las características del modelo\n",
    "model.summary()"
   ]
  },
  {
   "cell_type": "code",
   "execution_count": 20,
   "id": "04f3c7e5",
   "metadata": {},
   "outputs": [],
   "source": [
    "#Definimos el callback \n",
    "my_callbacks = [\n",
    "    TensorBoard(log_dir = \"tensorboard/cnn_CatsVsDogs\",\n",
    "               write_graph=True,\n",
    "               update_freq=\"epoch\")\n",
    "]"
   ]
  },
  {
   "cell_type": "code",
   "execution_count": 21,
   "id": "dd783cff",
   "metadata": {},
   "outputs": [
    {
     "name": "stdout",
     "output_type": "stream",
     "text": [
      "Epoch 1/2\n",
      "250/250 [==============================] - 683s 3s/step - loss: 0.7086 - accuracy: 0.5435 - val_loss: 0.6304 - val_accuracy: 0.6575\n",
      "Epoch 2/2\n",
      "250/250 [==============================] - 630s 3s/step - loss: 0.6137 - accuracy: 0.6637 - val_loss: 0.5705 - val_accuracy: 0.7030\n"
     ]
    }
   ],
   "source": [
    "#Ejecutamos el modelo \n",
    "epochs=15\n",
    "history = model.fit(\n",
    "  train_ds,\n",
    "  validation_data=val_ds,\n",
    "  epochs=epochs,\n",
    "  callbacks = my_callbacks\n",
    ")"
   ]
  },
  {
   "cell_type": "code",
   "execution_count": 30,
   "id": "b0f4ef74",
   "metadata": {},
   "outputs": [
    {
     "data": {
      "text/plain": [
       "array([0, 1])"
      ]
     },
     "execution_count": 30,
     "metadata": {},
     "output_type": "execute_result"
    }
   ],
   "source": [
    "#Array para epochs\n",
    "ep = np.arange(0,epochs,1)"
   ]
  },
  {
   "cell_type": "code",
   "execution_count": 31,
   "id": "00ec1694",
   "metadata": {},
   "outputs": [
    {
     "data": {
      "image/png": "[encoded data removed]",
      "text/plain": [
       "<Figure size 576x576 with 2 Axes>"
      ]
     },
     "metadata": {
      "needs_background": "light"
     },
     "output_type": "display_data"
    },
    {
     "data": {
      "text/plain": [
       "<Figure size 432x288 with 0 Axes>"
      ]
     },
     "metadata": {},
     "output_type": "display_data"
    }
   ],
   "source": [
    "acc = history.history['accuracy']\n",
    "val_acc = history.history['val_accuracy']\n",
    "\n",
    "loss = history.history['loss']\n",
    "val_loss = history.history['val_loss']\n",
    "\n",
    "epochs_range = range(epochs)\n",
    "\n",
    "plt.figure(figsize=(8, 8))\n",
    "plt.subplot(1, 2, 1)\n",
    "plt.plot(ep, acc, label='Training Accuracy')\n",
    "plt.plot(ep, val_acc, label='Validation Accuracy')\n",
    "plt.legend(loc='lower right')\n",
    "plt.title('Training and Validation Accuracy')\n",
    "\n",
    "plt.subplot(1, 2, 2)\n",
    "plt.plot(ep, loss, label='Training Loss')\n",
    "plt.plot(ep, val_loss, label='Validation Loss')\n",
    "plt.legend(loc='upper right')\n",
    "plt.title('Training and Validation Loss')\n",
    "#plt.show()\n",
    "plt.savefig('model_base.png')\n"
   ]
  },
  {
   "cell_type": "code",
   "execution_count": 32,
   "id": "3fdffe56",
   "metadata": {},
   "outputs": [],
   "source": [
    "#Guardamos el modelo\n",
    "model.save(\"model_base.h5\")"
   ]
  },
  {
   "cell_type": "code",
   "execution_count": 33,
   "id": "0dd53186",
   "metadata": {},
   "outputs": [
    {
     "name": "stdout",
     "output_type": "stream",
     "text": [
      "Esta imagen probablemente pertenece a la categoría dogs con un porcentaje de confianza de 81.22.\n"
     ]
    }
   ],
   "source": [
    "#Probamos el modelo con una imagen propia\n",
    "model = tf.keras.models.load_model(\"model_base.h5\")\n",
    "\n",
    "prueba_dir = pathlib.Path(\"dataset/junior_1.jpeg\")\n",
    "\n",
    "prueba_img = keras.preprocessing.image.load_img(\n",
    "    prueba_dir, \n",
    "    target_size=(img_height, img_width)\n",
    ")\n",
    "\n",
    "prueba_array = keras.preprocessing.image.img_to_array(prueba_img)\n",
    "prueba_array = tf.expand_dims(prueba_array, 0) \n",
    "\n",
    "predictions = model.predict(prueba_array)\n",
    "score = tf.nn.softmax(predictions[0])\n",
    "\n",
    "print(\n",
    "    \"Esta imagen probablemente pertenece a la categoría {} con un porcentaje de confianza de {:.2f}.\"\n",
    "    .format(class_names[np.argmax(score)], 100 * np.max(score))\n",
    ")"
   ]
  },
  {
   "cell_type": "code",
   "execution_count": null,
   "id": "1110dc80",
   "metadata": {},
   "outputs": [],
   "source": []
  }
 ],
 "metadata": {
  "kernelspec": {
   "display_name": "Python 3",
   "language": "python",
   "name": "python3"
  },
  "language_info": {
   "codemirror_mode": {
    "name": "ipython",
    "version": 3
   },
   "file_extension": ".py",
   "mimetype": "text/x-python",
   "name": "python",
   "nbconvert_exporter": "python",
   "pygments_lexer": "ipython3",
   "version": "3.6.13"
  }
 },
 "nbformat": 4,
 "nbformat_minor": 5
}
